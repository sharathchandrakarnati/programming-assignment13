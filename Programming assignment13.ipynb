{
 "cells": [
  {
   "cell_type": "markdown",
   "id": "2740643c",
   "metadata": {},
   "source": [
    "Question 1:\n",
    "Write a program that calculates and prints the value according to the given formula:\n",
    "Q = Square root of [(2 * C * D)/H]\n",
    "Following are the fixed values of C and H:\n",
    "C is 50. H is 30.\n",
    "D is the variable whose values should be input to your program in a comma-separated\n",
    "sequence.\n",
    "Example\n",
    "Let us assume the following comma separated input sequence is given to the program:\n",
    "100,150,180\n",
    "The output of the program should be:\n",
    "18,22,24"
   ]
  },
  {
   "cell_type": "code",
   "execution_count": 10,
   "id": "0132d54a",
   "metadata": {},
   "outputs": [],
   "source": [
    "from math import sqrt\n",
    "def value(a):\n",
    "    out_put = []\n",
    "    C = 50\n",
    "    H = 30 \n",
    "    for i in a:\n",
    "        sqrt_ = round(sqrt((2*C*i)/H))\n",
    "        out_put.append(sqrt_)\n",
    "        new_output = str(out_put) \n",
    "        print(new_output)\n",
    "    "
   ]
  },
  {
   "cell_type": "code",
   "execution_count": 11,
   "id": "dc6fc1f4",
   "metadata": {},
   "outputs": [
    {
     "name": "stdout",
     "output_type": "stream",
     "text": [
      "[18]\n",
      "[18, 22]\n",
      "[18, 22, 24]\n"
     ]
    }
   ],
   "source": [
    "value([100,150,180])"
   ]
  },
  {
   "cell_type": "code",
   "execution_count": null,
   "id": "15719d88",
   "metadata": {},
   "outputs": [],
   "source": []
  },
  {
   "cell_type": "markdown",
   "id": "6ae59352",
   "metadata": {},
   "source": [
    "Question 2:\n",
    "Write a program which takes 2 digits, X,Y as input and generates a 2-dimensional array. The\n",
    "element value in the i-th row and j-th column of the array should be i*j.\n",
    "Note: i=0,1.., X-1; j=0,1,¡Y-1.\n",
    "Example\n",
    "Suppose the following inputs are given to the program:\n",
    "3,5\n",
    "Then, the output of the program should be:\n",
    "[[0, 0, 0, 0, 0], [0, 1, 2, 3, 4], [0, 2, 4, 6, 8]]"
   ]
  },
  {
   "cell_type": "code",
   "execution_count": 16,
   "id": "ebe9d396",
   "metadata": {},
   "outputs": [],
   "source": [
    "def _digits(x,y):\n",
    "    out_put = []\n",
    "    for i in range(x):\n",
    "        out_put.insert(x,[])\n",
    "        for j in range(y,):\n",
    "            out_put[i].append(i*j)\n",
    "    print(out_put)"
   ]
  },
  {
   "cell_type": "code",
   "execution_count": 17,
   "id": "17a18e7a",
   "metadata": {},
   "outputs": [
    {
     "name": "stdout",
     "output_type": "stream",
     "text": [
      "[[0, 0, 0, 0, 0], [0, 1, 2, 3, 4], [0, 2, 4, 6, 8]]\n"
     ]
    }
   ],
   "source": [
    "_digits(3,5)"
   ]
  },
  {
   "cell_type": "code",
   "execution_count": null,
   "id": "70217e8b",
   "metadata": {},
   "outputs": [],
   "source": []
  },
  {
   "cell_type": "markdown",
   "id": "1d210fca",
   "metadata": {},
   "source": [
    "## 3.Write a program that accepts a comma separated sequence of words as input and prints the words in a comma-separated sequence after sorting them alphabetically ?\n",
    "Suppose the following input is supplied to the program: without,hello,bag,world\n",
    "Then, the output should be: bag,hello,without,world"
   ]
  },
  {
   "cell_type": "code",
   "execution_count": 1,
   "id": "9ec7d25c",
   "metadata": {},
   "outputs": [],
   "source": [
    "def sortAlphabet():\n",
    "    string = input(\"enter the string\")\n",
    "    out_string =  ' '.join(sorted(sorted(list(set(string.split(\" \"))))))\n",
    "    print(f'output:{out_string}')\n",
    "    "
   ]
  },
  {
   "cell_type": "code",
   "execution_count": 3,
   "id": "151cede3",
   "metadata": {},
   "outputs": [
    {
     "name": "stdout",
     "output_type": "stream",
     "text": [
      "enter the stringhello world and practice makes perfect and hello world again\n",
      "output:again and hello makes perfect practice world\n"
     ]
    }
   ],
   "source": [
    "sortAlphabet()"
   ]
  },
  {
   "cell_type": "markdown",
   "id": "ae65d396",
   "metadata": {},
   "source": [
    "## 5.Write a program that accepts a sentence and calculate the number of letters and digits.\n",
    "Suppose the following input is supplied to the program: hello world! 123\n",
    "Then, the output should be:\n",
    "LETTERS 10\n",
    "DIGITS 3"
   ]
  },
  {
   "cell_type": "code",
   "execution_count": 13,
   "id": "9a33ae85",
   "metadata": {},
   "outputs": [],
   "source": [
    "def sentencecaculation():\n",
    "    string_ = input(\"enter the string: \")\n",
    "    letter_list = 'AaBbCcDdEeFfGgHhIiJjKkLlMmNnOoPpQqRrSsTtUuVvWwXxYyZz'\n",
    "    digitlist = '0123456789'\n",
    "    letters = 0\n",
    "    digits = 0\n",
    "    for i in string_:\n",
    "        if i in letter_list:\n",
    "            letters += 1\n",
    "        if i in digitlist:\n",
    "            digits += 1\n",
    "    print(f'LETTERS {letters} \\n Digits {digits}')\n",
    "        "
   ]
  },
  {
   "cell_type": "code",
   "execution_count": 14,
   "id": "6734f69f",
   "metadata": {},
   "outputs": [
    {
     "name": "stdout",
     "output_type": "stream",
     "text": [
      "enter the string: hello world! 123\n",
      "LETTERS 10 \n",
      " Digits 3\n"
     ]
    }
   ],
   "source": [
    "sentencecaculation()"
   ]
  },
  {
   "cell_type": "code",
   "execution_count": null,
   "id": "5643f65a",
   "metadata": {},
   "outputs": [],
   "source": []
  },
  {
   "cell_type": "markdown",
   "id": "8fd0d706",
   "metadata": {},
   "source": [
    "## 6.A website requires the users to input username and password to register. Write a program to check the validity of password input by users.\n",
    "Following are the criteria for checking the password:\n",
    "\n",
    "At least 1 letter between [a-z]\n",
    "At least 1 number between [0-9]\n",
    "At least 1 letter between [A-Z]\n",
    "At least 1 character from [$#@]\n",
    "Minimum length of transaction password: 6\n",
    "Maximum length of transaction password: 12\n",
    "Your program should accept a sequence of comma separated passwords and will check them according to the above criteria. Passwords that match the criteria are to be printed, each separated by a comma.\n",
    "\n",
    "Example:\n",
    "If the following passwords are given as input to the program: ABd1234@1,a F1#,2w3E*,2We3345\n",
    "Then, the output of the program should be:ABd1234@1"
   ]
  },
  {
   "cell_type": "code",
   "execution_count": 43,
   "id": "d8b94161",
   "metadata": {},
   "outputs": [],
   "source": [
    "def checkPassword():\n",
    "    in_string = input(\"Enter the Input String: \")\n",
    "    small_list = \"abcdefghijklmnopqrstuvwxyz\"\n",
    "    cap_list = \"ABCDEFGHIJKLMNOPQRSTUVWXYZ\"\n",
    "    num_list = \"0123456789\"\n",
    "    special_list = \"$#@\"\n",
    "    for ele in in_string.split(\",\"):\n",
    "        if len(ele) <= 12 and len(ele) >=6 :\n",
    "            if any(i.isupper() for i in ele):\n",
    "                if any(i.islower() for i in ele):\n",
    "                    if any(i for i in ele if i in special_list):\n",
    "                        print(ele)"
   ]
  },
  {
   "cell_type": "code",
   "execution_count": 44,
   "id": "5be5f3fc",
   "metadata": {},
   "outputs": [
    {
     "name": "stdout",
     "output_type": "stream",
     "text": [
      "Enter the Input String: 2dsvsd\n"
     ]
    }
   ],
   "source": [
    "checkPassword()"
   ]
  },
  {
   "cell_type": "code",
   "execution_count": null,
   "id": "a4f16980",
   "metadata": {},
   "outputs": [],
   "source": []
  },
  {
   "cell_type": "code",
   "execution_count": null,
   "id": "7438c95f",
   "metadata": {},
   "outputs": [],
   "source": []
  },
  {
   "cell_type": "code",
   "execution_count": null,
   "id": "2ae96ef7",
   "metadata": {},
   "outputs": [],
   "source": []
  }
 ],
 "metadata": {
  "kernelspec": {
   "display_name": "Python 3 (ipykernel)",
   "language": "python",
   "name": "python3"
  },
  "language_info": {
   "codemirror_mode": {
    "name": "ipython",
    "version": 3
   },
   "file_extension": ".py",
   "mimetype": "text/x-python",
   "name": "python",
   "nbconvert_exporter": "python",
   "pygments_lexer": "ipython3",
   "version": "3.9.13"
  }
 },
 "nbformat": 4,
 "nbformat_minor": 5
}
